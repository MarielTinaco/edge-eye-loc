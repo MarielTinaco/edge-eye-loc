{
 "cells": [
  {
   "attachments": {},
   "cell_type": "markdown",
   "metadata": {},
   "source": [
    "# General Eye localization Dataset Processing pipeline"
   ]
  },
  {
   "attachments": {},
   "cell_type": "markdown",
   "metadata": {},
   "source": [
    "### Standard Library Imports"
   ]
  },
  {
   "cell_type": "code",
   "execution_count": 1,
   "metadata": {},
   "outputs": [],
   "source": [
    "import sys, os\n",
    "import hdf5storage\n",
    "import numpy as np\n",
    "import shutil\n",
    "from statistics import mean\n",
    "from pathlib import Path\n"
   ]
  },
  {
   "cell_type": "markdown",
   "metadata": {},
   "source": [
    "### Local Module Imports"
   ]
  },
  {
   "cell_type": "code",
   "execution_count": 2,
   "metadata": {},
   "outputs": [],
   "source": [
    "sys.path.append(os.path.dirname(os.getcwd()))\n",
    "sys.path.append(os.path.join(os.path.dirname(os.getcwd()), 'src'))\n",
    "\n",
    "from src.utils.paths_manager import LFPW_RAW_SOURCE_PATH, HELEN_RAW_SOURCE_PATH\n",
    "from src.dataset.loaders import LFPWDataset, HelenDataset, FaceLandmarkDataloaderContext\n",
    "from src.dataset.ops import FaceLandmarkImageOps\n",
    "from src.utils.data_structs import ColumnStruct"
   ]
  },
  {
   "attachments": {},
   "cell_type": "markdown",
   "metadata": {},
   "source": [
    "### Instantiate Main Context class"
   ]
  },
  {
   "cell_type": "code",
   "execution_count": 3,
   "metadata": {},
   "outputs": [],
   "source": [
    "dloader_ctx = FaceLandmarkDataloaderContext()"
   ]
  },
  {
   "cell_type": "code",
   "execution_count": 4,
   "metadata": {},
   "outputs": [],
   "source": [
    "# Dataset source container\n",
    "dataset_container = [\n",
    "    LFPWDataset(LFPW_RAW_SOURCE_PATH),\n",
    "    HelenDataset(HELEN_RAW_SOURCE_PATH)\n",
    "]\n",
    "\n",
    "# Tset container \n",
    "tset_container = [\n",
    "    'test',\n",
    "    'train'\n",
    "]"
   ]
  },
  {
   "cell_type": "code",
   "execution_count": 5,
   "metadata": {},
   "outputs": [],
   "source": [
    "# Dataset processing settings\n",
    "DATASETS_PATH = Path('../datasets')\n",
    "\n",
    "DESTINATION_PATH = DATASETS_PATH / 'processed' / 'MIRRORED_ITERATION'\n",
    "TEST_DESTINATION_PATH = DESTINATION_PATH / 'test'\n",
    "TRAIN_DESTINATION_PATH = DESTINATION_PATH / 'train'\n",
    "\n",
    "if not DESTINATION_PATH.exists():\n",
    "    DESTINATION_PATH.mkdir()\n",
    "\n",
    "if not TEST_DESTINATION_PATH.exists():\n",
    "    TEST_DESTINATION_PATH.mkdir()\n",
    "\n",
    "if not TRAIN_DESTINATION_PATH.exists():\n",
    "    TRAIN_DESTINATION_PATH.mkdir()"
   ]
  },
  {
   "cell_type": "code",
   "execution_count": 6,
   "metadata": {},
   "outputs": [
    {
     "data": {
      "text/plain": [
       "'..\\\\datasets\\\\processed\\\\MIRRORED_ITERATION\\\\train\\\\see_bboxes.m'"
      ]
     },
     "execution_count": 6,
     "metadata": {},
     "output_type": "execute_result"
    }
   ],
   "source": [
    "shutil.copy('../extras/test/see_bboxes.m', str(TEST_DESTINATION_PATH/'see_bboxes.m'))\n",
    "shutil.copy('../extras/train/see_bboxes.m', str(TRAIN_DESTINATION_PATH/'see_bboxes.m'))"
   ]
  },
  {
   "cell_type": "code",
   "execution_count": 7,
   "metadata": {},
   "outputs": [],
   "source": [
    "STANDARD_FACE_WIDTH = 300\n",
    "STANDARD_FACE_HEIGHT = 420"
   ]
  },
  {
   "cell_type": "code",
   "execution_count": 8,
   "metadata": {},
   "outputs": [
    {
     "name": "stdout",
     "output_type": "stream",
     "text": [
      "image_0001.png\n",
      "image_0002.png\n",
      "image_0003.png\n",
      "image_0004.png\n",
      "image_0005.png\n",
      "image_0006.png\n",
      "image_0007.png\n",
      "image_0008.png\n",
      "image_0009.png\n",
      "image_0011.png\n",
      "image_0012.png\n",
      "image_0013.png\n",
      "image_0014.png\n",
      "image_0015.png\n",
      "image_0016.png\n",
      "image_0018.png\n",
      "image_0021.png\n",
      "image_0022.png\n",
      "image_0023.png\n",
      "image_0024.png\n",
      "image_0025.png\n",
      "image_0026.png\n",
      "image_0027.png\n",
      "image_0028.png\n",
      "image_0029.png\n",
      "image_0030.png\n",
      "image_0031.png\n",
      "image_0032.png\n",
      "image_0033.png\n",
      "image_0034.png\n",
      "image_0035.png\n",
      "image_0036.png\n",
      "image_0037.png\n",
      "image_0038.png\n",
      "image_0039.png\n",
      "image_0040.png\n",
      "image_0041.png\n",
      "image_0042.png\n",
      "image_0043.png\n",
      "image_0044.png\n",
      "image_0045.png\n",
      "image_0046.png\n",
      "image_0048.png\n",
      "image_0049.png\n",
      "image_0050.png\n",
      "image_0051.png\n",
      "image_0052.png\n",
      "image_0053.png\n",
      "image_0054.png\n",
      "image_0055.png\n",
      "image_0056.png\n"
     ]
    },
    {
     "ename": "KeyboardInterrupt",
     "evalue": "",
     "output_type": "error",
     "traceback": [
      "\u001b[1;31m---------------------------------------------------------------------------\u001b[0m",
      "\u001b[1;31mAttributeError\u001b[0m                            Traceback (most recent call last)",
      "File \u001b[1;32mc:\\Users\\MTinaco\\Dev\\edge-eye-loc\\venv\\Lib\\site-packages\\PIL\\ImageFile.py:515\u001b[0m, in \u001b[0;36m_save\u001b[1;34m(im, fp, tile, bufsize)\u001b[0m\n\u001b[0;32m    514\u001b[0m \u001b[39mtry\u001b[39;00m:\n\u001b[1;32m--> 515\u001b[0m     fh \u001b[39m=\u001b[39m fp\u001b[39m.\u001b[39;49mfileno()\n\u001b[0;32m    516\u001b[0m     fp\u001b[39m.\u001b[39mflush()\n",
      "\u001b[1;31mAttributeError\u001b[0m: '_idat' object has no attribute 'fileno'",
      "\nDuring handling of the above exception, another exception occurred:\n",
      "\u001b[1;31mKeyboardInterrupt\u001b[0m                         Traceback (most recent call last)",
      "Cell \u001b[1;32mIn[8], line 43\u001b[0m\n\u001b[0;32m     40\u001b[0m         orig_struct\u001b[39m.\u001b[39madd(\u001b[39mlist\u001b[39m(bboxed_im\u001b[39m.\u001b[39mbbox[\u001b[39m'\u001b[39m\u001b[39mright_eye\u001b[39m\u001b[39m'\u001b[39m]), \u001b[39m1\u001b[39m)\n\u001b[0;32m     41\u001b[0m         combined_container\u001b[39m.\u001b[39mappend(orig_struct\u001b[39m.\u001b[39mentry())\n\u001b[1;32m---> 43\u001b[0m         bboxed_im\u001b[39m.\u001b[39;49mimage\u001b[39m.\u001b[39;49msave(DESTINATION_PATH \u001b[39m/\u001b[39;49m tset \u001b[39m/\u001b[39;49m orig_fname)\n\u001b[0;32m     45\u001b[0m         \u001b[39mprint\u001b[39m(os\u001b[39m.\u001b[39mpath\u001b[39m.\u001b[39mbasename(fl_image\u001b[39m.\u001b[39mfpath))\n\u001b[0;32m     47\u001b[0m matrix \u001b[39m=\u001b[39m {\u001b[39m'\u001b[39m\u001b[39mdigitStruct\u001b[39m\u001b[39m'\u001b[39m : np\u001b[39m.\u001b[39marray([combined_container], dtype\u001b[39m=\u001b[39m[(\u001b[39m'\u001b[39m\u001b[39mname\u001b[39m\u001b[39m'\u001b[39m, \u001b[39m'\u001b[39m\u001b[39mO\u001b[39m\u001b[39m'\u001b[39m), (\u001b[39m'\u001b[39m\u001b[39mbbox\u001b[39m\u001b[39m'\u001b[39m, \u001b[39m'\u001b[39m\u001b[39mO\u001b[39m\u001b[39m'\u001b[39m)])}\n",
      "File \u001b[1;32mc:\\Users\\MTinaco\\Dev\\edge-eye-loc\\venv\\Lib\\site-packages\\PIL\\Image.py:2413\u001b[0m, in \u001b[0;36mImage.save\u001b[1;34m(self, fp, format, **params)\u001b[0m\n\u001b[0;32m   2410\u001b[0m         fp \u001b[39m=\u001b[39m builtins\u001b[39m.\u001b[39mopen(filename, \u001b[39m\"\u001b[39m\u001b[39mw+b\u001b[39m\u001b[39m\"\u001b[39m)\n\u001b[0;32m   2412\u001b[0m \u001b[39mtry\u001b[39;00m:\n\u001b[1;32m-> 2413\u001b[0m     save_handler(\u001b[39mself\u001b[39;49m, fp, filename)\n\u001b[0;32m   2414\u001b[0m \u001b[39mexcept\u001b[39;00m \u001b[39mException\u001b[39;00m:\n\u001b[0;32m   2415\u001b[0m     \u001b[39mif\u001b[39;00m open_fp:\n",
      "File \u001b[1;32mc:\\Users\\MTinaco\\Dev\\edge-eye-loc\\venv\\Lib\\site-packages\\PIL\\PngImagePlugin.py:1398\u001b[0m, in \u001b[0;36m_save\u001b[1;34m(im, fp, filename, chunk, save_all)\u001b[0m\n\u001b[0;32m   1396\u001b[0m     _write_multiple_frames(im, fp, chunk, rawmode, default_image, append_images)\n\u001b[0;32m   1397\u001b[0m \u001b[39melse\u001b[39;00m:\n\u001b[1;32m-> 1398\u001b[0m     ImageFile\u001b[39m.\u001b[39;49m_save(im, _idat(fp, chunk), [(\u001b[39m\"\u001b[39;49m\u001b[39mzip\u001b[39;49m\u001b[39m\"\u001b[39;49m, (\u001b[39m0\u001b[39;49m, \u001b[39m0\u001b[39;49m) \u001b[39m+\u001b[39;49m im\u001b[39m.\u001b[39;49msize, \u001b[39m0\u001b[39;49m, rawmode)])\n\u001b[0;32m   1400\u001b[0m \u001b[39mif\u001b[39;00m info:\n\u001b[0;32m   1401\u001b[0m     \u001b[39mfor\u001b[39;00m info_chunk \u001b[39min\u001b[39;00m info\u001b[39m.\u001b[39mchunks:\n",
      "File \u001b[1;32mc:\\Users\\MTinaco\\Dev\\edge-eye-loc\\venv\\Lib\\site-packages\\PIL\\ImageFile.py:519\u001b[0m, in \u001b[0;36m_save\u001b[1;34m(im, fp, tile, bufsize)\u001b[0m\n\u001b[0;32m    517\u001b[0m     _encode_tile(im, fp, tile, bufsize, fh)\n\u001b[0;32m    518\u001b[0m \u001b[39mexcept\u001b[39;00m (\u001b[39mAttributeError\u001b[39;00m, io\u001b[39m.\u001b[39mUnsupportedOperation) \u001b[39mas\u001b[39;00m exc:\n\u001b[1;32m--> 519\u001b[0m     _encode_tile(im, fp, tile, bufsize, \u001b[39mNone\u001b[39;49;00m, exc)\n\u001b[0;32m    520\u001b[0m \u001b[39mif\u001b[39;00m \u001b[39mhasattr\u001b[39m(fp, \u001b[39m\"\u001b[39m\u001b[39mflush\u001b[39m\u001b[39m\"\u001b[39m):\n\u001b[0;32m    521\u001b[0m     fp\u001b[39m.\u001b[39mflush()\n",
      "File \u001b[1;32mc:\\Users\\MTinaco\\Dev\\edge-eye-loc\\venv\\Lib\\site-packages\\PIL\\ImageFile.py:538\u001b[0m, in \u001b[0;36m_encode_tile\u001b[1;34m(im, fp, tile, bufsize, fh, exc)\u001b[0m\n\u001b[0;32m    535\u001b[0m \u001b[39mif\u001b[39;00m exc:\n\u001b[0;32m    536\u001b[0m     \u001b[39m# compress to Python file-compatible object\u001b[39;00m\n\u001b[0;32m    537\u001b[0m     \u001b[39mwhile\u001b[39;00m \u001b[39mTrue\u001b[39;00m:\n\u001b[1;32m--> 538\u001b[0m         errcode, data \u001b[39m=\u001b[39m encoder\u001b[39m.\u001b[39;49mencode(bufsize)[\u001b[39m1\u001b[39m:]\n\u001b[0;32m    539\u001b[0m         fp\u001b[39m.\u001b[39mwrite(data)\n\u001b[0;32m    540\u001b[0m         \u001b[39mif\u001b[39;00m errcode:\n",
      "\u001b[1;31mKeyboardInterrupt\u001b[0m: "
     ]
    }
   ],
   "source": [
    "combined_container = []\n",
    "\n",
    "for tset in tset_container:\n",
    "    for dset in dataset_container:\n",
    "        dloader_ctx.dloader = dset\n",
    "        if not dloader_ctx.check_valid():\n",
    "            print('Invalid Dataset Loader')\n",
    "            break\n",
    "\n",
    "        for fl_image in dloader_ctx.load(tset):\n",
    "            \n",
    "            orig_fname = os.path.basename(fl_image.fpath)\n",
    "\n",
    "            # Scale image\n",
    "            leftmost = min([x[0] for x in fl_image.landmarks.face])\n",
    "            rightmost = max([x[0] for x in fl_image.landmarks.face])\n",
    "\n",
    "            face_width = rightmost - leftmost\n",
    "            scaling_factor = STANDARD_FACE_WIDTH / face_width\n",
    "\n",
    "            im = fl_image.uniform_scale(scaling_factor)\n",
    "\n",
    "            # Crop image\n",
    "            leftmost = min([x[0] for x in im.landmarks.face])\n",
    "            rightmost = max([x[0] for x in im.landmarks.face])\n",
    "\n",
    "            face_outline_cluster = im.landmarks.face + im.landmarks.left_brow + im.landmarks.right_brow\n",
    "            y_median = mean([y[1] for y in face_outline_cluster])\n",
    "\n",
    "            im = im.crop(left=leftmost,right=rightmost, top=y_median-STANDARD_FACE_HEIGHT/2, bottom=y_median+STANDARD_FACE_HEIGHT/2)\n",
    "\n",
    "            # Create image with bounding boxes\n",
    "\n",
    "            bbox_im = im.create_bbox_image()\n",
    "            bboxed_im = bbox_im.pad_bbox('left_eye', (20, 40, 20, 40)).pad_bbox('right_eye', (20, 40, 20, 40))\n",
    "\n",
    "            # Create ColumnStruct\n",
    "            orig_struct = ColumnStruct (filename = orig_fname, header=(\"filename\", \"height\", \"left\", \"top\", \"width\", \"label\"), label_by_index=True)\n",
    "            orig_struct.add(list(bboxed_im.bbox['left_eye']), 1)\n",
    "            orig_struct.add(list(bboxed_im.bbox['right_eye']), 1)\n",
    "            combined_container.append(orig_struct.entry())\n",
    "\n",
    "            bboxed_im.image.save(DESTINATION_PATH / tset / orig_fname)\n",
    "\n",
    "            print(os.path.basename(fl_image.fpath))\n",
    "\n",
    "    matrix = {'digitStruct' : np.array([combined_container], dtype=[('name', 'O'), ('bbox', 'O')])}\n",
    "    hdf5storage.write(matrix, '.', str(DESTINATION_PATH / tset / 'digitStruct.mat') , matlab_compatible=True)"
   ]
  },
  {
   "cell_type": "code",
   "execution_count": null,
   "metadata": {},
   "outputs": [],
   "source": []
  }
 ],
 "metadata": {
  "kernelspec": {
   "display_name": "venv",
   "language": "python",
   "name": "python3"
  },
  "language_info": {
   "codemirror_mode": {
    "name": "ipython",
    "version": 3
   },
   "file_extension": ".py",
   "mimetype": "text/x-python",
   "name": "python",
   "nbconvert_exporter": "python",
   "pygments_lexer": "ipython3",
   "version": "3.11.4"
  },
  "orig_nbformat": 4
 },
 "nbformat": 4,
 "nbformat_minor": 2
}
