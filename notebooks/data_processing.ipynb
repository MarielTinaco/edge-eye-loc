{
 "cells": [
  {
   "attachments": {},
   "cell_type": "markdown",
   "metadata": {},
   "source": [
    "# General Eye localization Dataset Processing pipeline"
   ]
  },
  {
   "attachments": {},
   "cell_type": "markdown",
   "metadata": {},
   "source": [
    "### Standard Library Imports"
   ]
  },
  {
   "cell_type": "code",
   "execution_count": 1,
   "metadata": {},
   "outputs": [],
   "source": [
    "import sys, os\n",
    "import hdf5storage\n",
    "import numpy as np\n",
    "import shutil\n",
    "from statistics import mean\n",
    "from pathlib import Path\n"
   ]
  },
  {
   "cell_type": "markdown",
   "metadata": {},
   "source": [
    "### Local Module Imports"
   ]
  },
  {
   "cell_type": "code",
   "execution_count": 2,
   "metadata": {},
   "outputs": [],
   "source": [
    "sys.path.append(os.path.dirname(os.getcwd()))\n",
    "sys.path.append(os.path.join(os.path.dirname(os.getcwd()), 'src'))\n",
    "\n",
    "from src.utils.paths_manager import LFPW_RAW_SOURCE_PATH, HELEN_RAW_SOURCE_PATH\n",
    "from src.dataset.loaders import LFPWDataset, HelenDataset, FaceLandmarkDataloaderContext\n",
    "from src.dataset.ops import FaceLandmarkImageOps\n",
    "from src.utils.data_structs import ColumnStruct"
   ]
  },
  {
   "attachments": {},
   "cell_type": "markdown",
   "metadata": {},
   "source": [
    "### Instantiate Main Context class"
   ]
  },
  {
   "cell_type": "code",
   "execution_count": 3,
   "metadata": {},
   "outputs": [],
   "source": [
    "dloader_ctx = FaceLandmarkDataloaderContext()"
   ]
  },
  {
   "cell_type": "code",
   "execution_count": 4,
   "metadata": {},
   "outputs": [],
   "source": [
    "# Dataset source container\n",
    "dataset_container = [\n",
    "    LFPWDataset(LFPW_RAW_SOURCE_PATH),\n",
    "    HelenDataset(HELEN_RAW_SOURCE_PATH)\n",
    "]\n",
    "\n",
    "# Tset container \n",
    "tset_container = [\n",
    "    'test',\n",
    "    'train'\n",
    "]"
   ]
  },
  {
   "cell_type": "code",
   "execution_count": 5,
   "metadata": {},
   "outputs": [],
   "source": [
    "# Dataset processing settings\n",
    "DATASETS_PATH = Path('../datasets')\n",
    "\n",
    "DESTINATION_PATH = DATASETS_PATH / 'processed' / 'MIRRORED'\n",
    "TEST_DESTINATION_PATH = DESTINATION_PATH / 'test'\n",
    "TRAIN_DESTINATION_PATH = DESTINATION_PATH / 'train'\n",
    "\n",
    "if not DESTINATION_PATH.exists():\n",
    "    DESTINATION_PATH.mkdir()\n",
    "\n",
    "if not TEST_DESTINATION_PATH.exists():\n",
    "    TEST_DESTINATION_PATH.mkdir()\n",
    "\n",
    "if not TRAIN_DESTINATION_PATH.exists():\n",
    "    TRAIN_DESTINATION_PATH.mkdir()"
   ]
  },
  {
   "cell_type": "code",
   "execution_count": 6,
   "metadata": {},
   "outputs": [
    {
     "data": {
      "text/plain": [
       "'..\\\\datasets\\\\processed\\\\TRY\\\\train\\\\see_bboxes.m'"
      ]
     },
     "execution_count": 6,
     "metadata": {},
     "output_type": "execute_result"
    }
   ],
   "source": [
    "shutil.copy('../extras/test/see_bboxes.m', str(TEST_DESTINATION_PATH/'see_bboxes.m'))\n",
    "shutil.copy('../extras/train/see_bboxes.m', str(TRAIN_DESTINATION_PATH/'see_bboxes.m'))"
   ]
  },
  {
   "cell_type": "code",
   "execution_count": 7,
   "metadata": {},
   "outputs": [],
   "source": [
    "STANDARD_FACE_WIDTH = 300\n",
    "STANDARD_FACE_HEIGHT = 420"
   ]
  },
  {
   "cell_type": "code",
   "execution_count": 8,
   "metadata": {},
   "outputs": [],
   "source": [
    "combined_container = []\n",
    "\n",
    "for tset in tset_container:\n",
    "    digitStructPath = DESTINATION_PATH / tset / 'digitStruct.mat'\n",
    "\n",
    "    if digitStructPath.exists():\n",
    "        os.remove(digitStructPath)\n",
    "\n",
    "    for dset in dataset_container:\n",
    "        dloader_ctx.dloader = dset\n",
    "        if not dloader_ctx.check_valid():\n",
    "            print('Invalid Dataset Loader')\n",
    "            break\n",
    "\n",
    "        for fl_image in dloader_ctx.load(tset):\n",
    "            \n",
    "            orig_fname = os.path.basename(fl_image.fpath)\n",
    "\n",
    "            # Scale image\n",
    "            leftmost = min([x[0] for x in fl_image.landmarks.face])\n",
    "            rightmost = max([x[0] for x in fl_image.landmarks.face])\n",
    "\n",
    "            face_width = rightmost - leftmost\n",
    "            scaling_factor = STANDARD_FACE_WIDTH / face_width\n",
    "\n",
    "            im = fl_image.uniform_scale(scaling_factor)\n",
    "\n",
    "            # Crop image\n",
    "            leftmost = min([x[0] for x in im.landmarks.face])\n",
    "            rightmost = max([x[0] for x in im.landmarks.face])\n",
    "\n",
    "            face_outline_cluster = im.landmarks.face + im.landmarks.left_brow + im.landmarks.right_brow\n",
    "            y_median = mean([y[1] for y in face_outline_cluster])\n",
    "\n",
    "            im = im.crop(left=leftmost,right=rightmost, top=y_median-STANDARD_FACE_HEIGHT/2, bottom=y_median+STANDARD_FACE_HEIGHT/2)\n",
    "\n",
    "            # Create image with bounding boxes\n",
    "\n",
    "            bbox_im = im.create_bbox_image()\n",
    "            bboxed_im = bbox_im.pad_bbox('left_eye', (20, 40, 20, 40)).pad_bbox('right_eye', (20, 40, 20, 40))\n",
    "\n",
    "            left_eye_square = bboxed_im.get_rect_as_list('left_eye')\n",
    "            right_eye_square = bboxed_im.get_rect_as_list('right_eye') \n",
    "\n",
    "            # print(left_eye_square)\n",
    "            # print(right_eye_square)\n",
    "            \n",
    "            # Create ColumnStruct\n",
    "            orig_struct = ColumnStruct (filename = orig_fname, header=(\"filename\", \"height\", \"left\", \"top\", \"width\", \"label\"), label_by_index=True)\n",
    "            orig_struct.add(left_eye_square, 1)\n",
    "            orig_struct.add(right_eye_square, 1)\n",
    "            combined_container.append(orig_struct.entry())\n",
    "\n",
    "            bboxed_im.image.save(DESTINATION_PATH / tset / orig_fname)\n",
    "\n",
    "            # Mirrored \n",
    "            mirrored_fname = f\"{Path(os.path.basename(fl_image.fpath)).stem}_mirrored{Path(os.path.basename(fl_image.fpath)).suffix}\"\n",
    "\n",
    "            mirrored_im = FaceLandmarkImageOps.mirror(im)\n",
    "\n",
    "             # Create image with bounding boxes\n",
    "\n",
    "            mirrored_bbox_im = mirrored_im.create_bbox_image()\n",
    "            mirrored_bboxed_im = mirrored_bbox_im.pad_bbox('left_eye', (20, 40, 20, 40)).pad_bbox('right_eye', (20, 40, 20, 40))\n",
    "\n",
    "            mirrored_left_eye_square = mirrored_bboxed_im.get_rect_as_list('left_eye')\n",
    "            mirrored_right_eye_square = mirrored_bboxed_im.get_rect_as_list('right_eye')\n",
    "\n",
    "            # print(mirrored_left_eye_square)\n",
    "            # print(mirrored_right_eye_square)\n",
    "\n",
    "            # Create ColumnStruct\n",
    "            mirrored_struct = ColumnStruct (filename = mirrored_fname, header=(\"filename\", \"height\", \"left\", \"top\", \"width\", \"label\"), label_by_index=True)\n",
    "            mirrored_struct.add(mirrored_left_eye_square, 1)\n",
    "            mirrored_struct.add(mirrored_right_eye_square, 1)\n",
    "            combined_container.append(mirrored_struct.entry())\n",
    "\n",
    "            mirrored_bboxed_im.image.save(DESTINATION_PATH / tset / orig_fname)\n",
    "\n",
    "            # print(os.path.basename(mirrored_fname))\n",
    "\n",
    "    matrix = {'digitStruct' : np.array([combined_container], dtype=[('name', 'O'), ('bbox', 'O')])}\n",
    "    hdf5storage.write(matrix, '.', str(DESTINATION_PATH / tset / 'digitStruct.mat') , matlab_compatible=True)"
   ]
  },
  {
   "cell_type": "code",
   "execution_count": null,
   "metadata": {},
   "outputs": [],
   "source": []
  }
 ],
 "metadata": {
  "kernelspec": {
   "display_name": "venv",
   "language": "python",
   "name": "python3"
  },
  "language_info": {
   "codemirror_mode": {
    "name": "ipython",
    "version": 3
   },
   "file_extension": ".py",
   "mimetype": "text/x-python",
   "name": "python",
   "nbconvert_exporter": "python",
   "pygments_lexer": "ipython3",
   "version": "3.11.4"
  },
  "orig_nbformat": 4
 },
 "nbformat": 4,
 "nbformat_minor": 2
}
